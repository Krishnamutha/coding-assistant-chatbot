{
 "cells": [
  {
   "cell_type": "code",
   "execution_count": null,
   "metadata": {},
   "outputs": [],
   "source": [
    "from openai import AzureOpenAI\n",
    "import os\n",
    "from IPython.display import  Markdown\n",
    "\n",
    "client = AzureOpenAI(\n",
    "  azure_endpoint = os.environ.get(\"AZURE_OPENAI_ENDPOINT\"), \n",
    "  api_key=os.environ.get(\"OPENAI_KEY\"),\n",
    "  api_version=\"2023-12-01-preview\"\n",
    ")"
   ]
  },
  {
   "cell_type": "code",
   "execution_count": 2,
   "metadata": {},
   "outputs": [],
   "source": [
    "def set_open_params(\n",
    "    model=\"gpt-35-turbo\",\n",
    "    temperature=0.7,\n",
    "    max_tokens=256,\n",
    "    top_p=1,\n",
    "    frequency_penalty=0,\n",
    "    presence_penalty=0,\n",
    "):\n",
    "    \"\"\" set openai parameters\"\"\"\n",
    "\n",
    "    openai_params = {}    \n",
    "\n",
    "    openai_params['model'] = model\n",
    "    openai_params['temperature'] = temperature\n",
    "    openai_params['max_tokens'] = max_tokens\n",
    "    openai_params['top_p'] = top_p\n",
    "    openai_params['frequency_penalty'] = frequency_penalty\n",
    "    openai_params['presence_penalty'] = presence_penalty\n",
    "    return openai_params"
   ]
  },
  {
   "cell_type": "code",
   "execution_count": 3,
   "metadata": {},
   "outputs": [],
   "source": [
    "def get_completion(gpt_client, params, messages):\n",
    "    \"\"\" GET completion from openai api\"\"\"\n",
    "\n",
    "    response = gpt_client.chat.completions.create(\n",
    "        model = params['model'],\n",
    "        messages = messages,\n",
    "        temperature = params['temperature'],\n",
    "        max_tokens = params['max_tokens'],\n",
    "        top_p = params['top_p'],\n",
    "        frequency_penalty = params['frequency_penalty'],\n",
    "        presence_penalty = params['presence_penalty'],\n",
    "    )\n",
    "    return response"
   ]
  },
  {
   "cell_type": "code",
   "execution_count": 4,
   "metadata": {},
   "outputs": [
    {
     "data": {
      "text/markdown": [
       "```java\n",
       "/**\n",
       " * This Selenium WebDriver is a powerful tool for automating web applications for testing purposes.\n",
       " *\n",
       " * It provides a rich set of tools and libraries for interacting with web elements and manipulating web pages.\n",
       " * With the use of Selenium WebDriver, you can programmatically navigate, fill forms, click buttons, and much more on a web page.\n",
       " *\n",
       " * This code example demonstrates how to use Selenium WebDriver in a Java environment to automate web interactions.\n",
       " * It can be integrated within a .NET Framework project using the appropriate bindings.\n",
       " *\n",
       " * The following example shows how to perform a simple browser automation with Selenium WebDriver.\n",
       " */\n",
       "\n",
       "import org.openqa.selenium.WebDriver;\n",
       "import org.openqa.selenium.chrome.ChromeDriver;\n",
       "import org.openqa.selenium.By;\n",
       "import org.openqa.selenium.WebElement;\n",
       "\n",
       "public class SeleniumExample {\n",
       "\n",
       "    public static void main(String[] args) {\n",
       "        // Set the path to the Chrome driver executable\n",
       "        System.setProperty(\"webdriver.chrome.driver\", \"path/to/chromedriver\");\n",
       "\n",
       "        // Start a new instance of the Chrome browser\n",
       "        WebDriver driver = new ChromeDriver();\n",
       "\n",
       "        // Navigate to a web page\n",
       "        driver.get(\"http://www.example.com\");\n",
       "\n",
       "        // Find an element by its ID and interact with it\n",
       "        WebElement element = driver.findElement(By.id(\"exampleId\"));\n",
       "        element.sendKeys(\"Hello, World!\");\n",
       "\n",
       "        // Find an element by its name and interact with it\n",
       "        WebElement element2 = driver.findElement(By.name(\"exampleName\"));\n",
       "        element2.click();\n",
       "\n",
       "        // Close the browser\n",
       "        driver.quit();\n",
       "    }\n",
       "}\n",
       "```\n",
       "\n",
       "This Java code example demonstrates the basic use of Selenium WebDriver for automating web interactions. The code interacts with web elements by finding them using their IDs and names, then performing actions such as sending keys and clicking.\n",
       "\n",
       "To integrate this code with a .NET Framework project, you can use the Selenium WebDriver bindings for .NET by adding the appropriate NuGet package to your project and translating the Java code to the corresponding syntax in C#. The Selenium WebDriver API is consistent across different programming languages, so the concepts and usage will remain similar.\n",
       "\n",
       "By leveraging the power of Selenium WebDriver, you can automate web interactions for testing and other purposes within a .NET Framework project."
      ],
      "text/plain": [
       "<IPython.core.display.Markdown object>"
      ]
     },
     "execution_count": 4,
     "metadata": {},
     "output_type": "execute_result"
    }
   ],
   "source": [
    "response = client.chat.completions.create(\n",
    "model=\"gpt-35-turbo\",\n",
    "messages=[\n",
    "    {\n",
    "    \"role\": \"user\",\n",
    "    \"content\": \"Write a playwrite java code techincal documents to Selenium Tool, and that can be used in Dot Net Freamework code\"\n",
    "    }\n",
    "],\n",
    "temperature=1,\n",
    "max_tokens=1000,\n",
    "top_p=1,\n",
    "frequency_penalty=0,\n",
    "presence_penalty=0\n",
    ")\n",
    "Markdown(response.choices[0].message.content)"
   ]
  },
  {
   "cell_type": "code",
   "execution_count": null,
   "metadata": {},
   "outputs": [],
   "source": []
  }
 ],
 "metadata": {
  "kernelspec": {
   "display_name": "Python 3",
   "language": "python",
   "name": "python3"
  },
  "language_info": {
   "codemirror_mode": {
    "name": "ipython",
    "version": 3
   },
   "file_extension": ".py",
   "mimetype": "text/x-python",
   "name": "python",
   "nbconvert_exporter": "python",
   "pygments_lexer": "ipython3",
   "version": "3.11.5"
  }
 },
 "nbformat": 4,
 "nbformat_minor": 2
}
