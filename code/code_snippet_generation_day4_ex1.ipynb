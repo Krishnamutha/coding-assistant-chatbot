{
 "cells": [
  {
   "cell_type": "code",
   "execution_count": null,
   "metadata": {},
   "outputs": [],
   "source": [
    "from openai import AzureOpenAI\n",
    "import os\n",
    "from IPython.display import  Markdown\n",
    "\n",
    "client = AzureOpenAI(\n",
    "  azure_endpoint = os.environ.get(\"AZURE_OPENAI_ENDPOINT\"), \n",
    "  api_key=os.environ.get(\"OPENAI_KEY\"),\n",
    "  api_version=\"2023-12-01-preview\"\n",
    ")"
   ]
  },
  {
   "cell_type": "code",
   "execution_count": 2,
   "metadata": {},
   "outputs": [],
   "source": [
    "def set_open_params(\n",
    "    model=\"gpt-35-turbo\",\n",
    "    temperature=0.7,\n",
    "    max_tokens=256,\n",
    "    top_p=1,\n",
    "    frequency_penalty=0,\n",
    "    presence_penalty=0,\n",
    "):\n",
    "    \"\"\" set openai parameters\"\"\"\n",
    "\n",
    "    openai_params = {}    \n",
    "\n",
    "    openai_params['model'] = model\n",
    "    openai_params['temperature'] = temperature\n",
    "    openai_params['max_tokens'] = max_tokens\n",
    "    openai_params['top_p'] = top_p\n",
    "    openai_params['frequency_penalty'] = frequency_penalty\n",
    "    openai_params['presence_penalty'] = presence_penalty\n",
    "    return openai_params"
   ]
  },
  {
   "cell_type": "code",
   "execution_count": 3,
   "metadata": {},
   "outputs": [],
   "source": [
    "def get_completion(gpt_client, params, messages):\n",
    "    \"\"\" GET completion from openai api\"\"\"\n",
    "\n",
    "    response = gpt_client.chat.completions.create(\n",
    "        model = params['model'],\n",
    "        messages = messages,\n",
    "        temperature = params['temperature'],\n",
    "        max_tokens = params['max_tokens'],\n",
    "        top_p = params['top_p'],\n",
    "        frequency_penalty = params['frequency_penalty'],\n",
    "        presence_penalty = params['presence_penalty'],\n",
    "    )\n",
    "    return response"
   ]
  },
  {
   "cell_type": "code",
   "execution_count": 7,
   "metadata": {},
   "outputs": [
    {
     "data": {
      "text/markdown": [
       "Sure! Here is an example of Java code using Playwright to iterate through drop down values using different methods:\n",
       "\n",
       "```java\n",
       "import com.microsoft.playwright.*;\n",
       "\n",
       "public class DropdownIterationExample {\n",
       "    public static void main(String[] args) {\n",
       "        try (Playwright playwright = Playwright.create()) {\n",
       "            Browser browser = playwright.chromium().launch();\n",
       "            Page page = browser.newPage();\n",
       "\n",
       "            page.navigate(\"https://example.com\");\n",
       "\n",
       "            // Get the dropdown element\n",
       "            ElementHandle dropdown = page.querySelector(\"select#dropdown\");\n",
       "\n",
       "            // Method 1: For Each\n",
       "            for (ElementHandle option : dropdown.selectOption()) {\n",
       "                System.out.println(\"Selected option: \" + option.innerText());\n",
       "            }\n",
       "\n",
       "            // Method 2: For loop\n",
       "            for (int i = 0; i < dropdown.selectOption().size(); i++) {\n",
       "                ElementHandle option = dropdown.selectOption().get(i);\n",
       "                System.out.println(\"Selected option: \" + option.innerText());\n",
       "            }\n",
       "\n",
       "            // Method 3: If Else\n",
       "            if (dropdown.selectOption().size() > 0) {\n",
       "                ElementHandle firstOption = dropdown.selectOption().get(0);\n",
       "                System.out.println(\"First option: \" + firstOption.innerText());\n",
       "            } else {\n",
       "                System.out.println"
      ],
      "text/plain": [
       "<IPython.core.display.Markdown object>"
      ]
     },
     "execution_count": 7,
     "metadata": {},
     "output_type": "execute_result"
    }
   ],
   "source": [
    "params = set_open_params(temperature=0.7)\n",
    "prompt = \"\"\" As a Test Automation Engineer, share a Java code to iterate the drop down values using Playwright Tool\n",
    "Iterate methods: For Each, For, IF Else \n",
    "\"\"\"\n",
    "\n",
    "messages = [\n",
    "    {\n",
    "        \"role\": \"user\",\n",
    "        \"content\": prompt\n",
    "    }\n",
    "]\n",
    "\n",
    "response = get_completion(client, params, messages)\n",
    "Markdown(response.choices[0].message.content)"
   ]
  }
 ],
 "metadata": {
  "kernelspec": {
   "display_name": "Python 3",
   "language": "python",
   "name": "python3"
  },
  "language_info": {
   "codemirror_mode": {
    "name": "ipython",
    "version": 3
   },
   "file_extension": ".py",
   "mimetype": "text/x-python",
   "name": "python",
   "nbconvert_exporter": "python",
   "pygments_lexer": "ipython3",
   "version": "3.11.5"
  }
 },
 "nbformat": 4,
 "nbformat_minor": 2
}
